{
 "cells": [
  {
   "cell_type": "markdown",
   "id": "1a1c3a78-6bfa-4818-a922-55833cbe40d8",
   "metadata": {},
   "source": [
    "# Applied Data Science Capstone Project"
   ]
  },
  {
   "cell_type": "markdown",
   "id": "2f6ab5cd-14f0-416c-9513-5be14f9d53e1",
   "metadata": {},
   "source": [
    "This Jupyter notebook will be used to used for designing and executing the capstone project battle of the neighborhoods"
   ]
  },
  {
   "cell_type": "code",
   "execution_count": 1,
   "id": "9b89f1b7-c735-498b-af5e-a9a64d49195e",
   "metadata": {},
   "outputs": [],
   "source": [
    "import pandas as pd\n",
    "import numpy as np"
   ]
  },
  {
   "cell_type": "code",
   "execution_count": 2,
   "id": "cc304f5e-81d7-4f41-9118-8ea46f58a2e5",
   "metadata": {},
   "outputs": [
    {
     "name": "stdout",
     "output_type": "stream",
     "text": [
      "Hello Capstone Project Course!\n"
     ]
    }
   ],
   "source": [
    "print('Hello Capstone Project Course!')"
   ]
  },
  {
   "cell_type": "code",
   "execution_count": null,
   "id": "78509900-9f7c-4e08-b04e-f2d1c13fe2e1",
   "metadata": {},
   "outputs": [],
   "source": []
  }
 ],
 "metadata": {
  "kernelspec": {
   "display_name": "Python 3",
   "language": "python",
   "name": "python3"
  },
  "language_info": {
   "codemirror_mode": {
    "name": "ipython",
    "version": 3
   },
   "file_extension": ".py",
   "mimetype": "text/x-python",
   "name": "python",
   "nbconvert_exporter": "python",
   "pygments_lexer": "ipython3",
   "version": "3.8.8"
  }
 },
 "nbformat": 4,
 "nbformat_minor": 5
}
